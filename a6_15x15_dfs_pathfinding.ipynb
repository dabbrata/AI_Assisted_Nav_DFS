{
 "cells": [
  {
   "cell_type": "code",
   "execution_count": 2,
   "metadata": {
    "execution": {
     "iopub.execute_input": "2025-02-05T05:27:25.119580Z",
     "iopub.status.busy": "2025-02-05T05:27:25.119271Z",
     "iopub.status.idle": "2025-02-05T05:27:25.407285Z",
     "shell.execute_reply": "2025-02-05T05:27:25.406405Z",
     "shell.execute_reply.started": "2025-02-05T05:27:25.119540Z"
    },
    "trusted": true
   },
   "outputs": [],
   "source": [
    "import numpy as np\n",
    "import cv2\n",
    "import matplotlib.pyplot as plt"
   ]
  },
  {
   "cell_type": "code",
   "execution_count": 3,
   "metadata": {
    "execution": {
     "iopub.execute_input": "2025-02-05T05:27:25.409397Z",
     "iopub.status.busy": "2025-02-05T05:27:25.409054Z",
     "iopub.status.idle": "2025-02-05T05:27:25.415576Z",
     "shell.execute_reply": "2025-02-05T05:27:25.414682Z",
     "shell.execute_reply.started": "2025-02-05T05:27:25.409359Z"
    },
    "trusted": true
   },
   "outputs": [],
   "source": [
    "def image_to_patches(image, resize_to=(225, 225), patch_size=(15, 15)):\n",
    "    # Load the image\n",
    "    \n",
    "    if isinstance(image, Image.Image):\n",
    "        image = np.array(image)\n",
    "    \n",
    "    # Ensure the image is grayscale\n",
    "    if len(image.shape) == 3:  # Convert color image to grayscale\n",
    "        image = cv2.cvtColor(image, cv2.COLOR_RGB2GRAY)\n",
    "    # Resize the image to the specified size\n",
    "    img = cv2.resize(image, resize_to)\n",
    "    \n",
    "    # Calculate the number of patches in each dimension\n",
    "    height, width = img.shape\n",
    "    patch_height, patch_width = patch_size\n",
    "    num_patches_y = height // patch_height\n",
    "    num_patches_x = width // patch_width\n",
    "    \n",
    "    # Initialize a matrix to store the average intensity of each patch\n",
    "    patch_matrix = np.zeros((num_patches_y, num_patches_x))\n",
    "    \n",
    "    # Compute the average intensity for each patch\n",
    "    for i in range(num_patches_y):\n",
    "        for j in range(num_patches_x):\n",
    "            patch = img[i * patch_height:(i + 1) * patch_height, j * patch_width:(j + 1) * patch_width]\n",
    "            patch_matrix[i, j] = np.mean(patch)\n",
    "    \n",
    "    return patch_matrix.astype(int)"
   ]
  },
  {
   "cell_type": "markdown",
   "metadata": {},
   "source": [
    "# **Function of DFS to Find Best Path**"
   ]
  },
  {
   "cell_type": "code",
   "execution_count": 4,
   "metadata": {
    "execution": {
     "iopub.execute_input": "2025-02-05T05:27:25.417063Z",
     "iopub.status.busy": "2025-02-05T05:27:25.416716Z",
     "iopub.status.idle": "2025-02-05T05:27:25.431408Z",
     "shell.execute_reply": "2025-02-05T05:27:25.430410Z",
     "shell.execute_reply.started": "2025-02-05T05:27:25.417023Z"
    },
    "trusted": true
   },
   "outputs": [],
   "source": [
    "def depth_map_search(matrix, start_row, start_col, threshold):\n",
    "    \n",
    "    rows, cols = len(matrix), len(matrix[0])\n",
    "    paths = []\n",
    "\n",
    "    def dfs(path, row, col):\n",
    "        # Add current position to the path\n",
    "        path.append((row, col))\n",
    "\n",
    "        # Skip path exploration for the top two rows\n",
    "        if row < 2:\n",
    "            return\n",
    "\n",
    "        # Current value\n",
    "        current_value = matrix[row][col]\n",
    "\n",
    "        # Check the neighbors\n",
    "        last_six_values = []\n",
    "        neighbors = [\n",
    "            (-1, -1), (-1, 0), (-1, 1),  # up-left, up, up-right\n",
    "            (-2, -1), (-2, 0), (-2, 1)   # up-up-left, up-up, up-up-right\n",
    "        ]\n",
    "\n",
    "        for dr, dc in neighbors:\n",
    "            new_row, new_col = row + dr, col + dc\n",
    "            if 0 <= new_row < rows and 0 <= new_col < cols:\n",
    "                last_six_values.append(matrix[new_row][new_col])\n",
    "\n",
    "        # Termination condition: consider the available neighbors\n",
    "        if last_six_values:\n",
    "            avg_neighbors = sum(last_six_values) / len(last_six_values)\n",
    "            if abs(avg_neighbors - current_value) <= threshold:\n",
    "                paths.append(path)\n",
    "                return\n",
    "\n",
    "        # Flag to track if further moves are possible\n",
    "        has_next = False\n",
    "\n",
    "        # Explore possible moves (up-left, up, up-right)\n",
    "        directions = [\n",
    "            (-1, 0), (-1, -1), (-1, 1)\n",
    "        ]\n",
    "\n",
    "        for dr, dc in directions:\n",
    "            new_row, new_col = row + dr, col + dc\n",
    "\n",
    "            # Check bounds and value condition\n",
    "            if 0 <= new_row < rows and 0 <= new_col < cols:\n",
    "                if matrix[new_row][new_col] <= current_value:\n",
    "                    has_next = True\n",
    "                    dfs(path[:], new_row, new_col)  # Pass a copy of the current path\n",
    "\n",
    "        # If no further moves are possible, save the path\n",
    "        if not has_next:\n",
    "            paths.append(path)\n",
    "\n",
    "    # Start DFS from the given starting point\n",
    "    dfs([], start_row, start_col)\n",
    "\n",
    "    # Select the most straight-forward and longest path\n",
    "    straight_forward_path = []\n",
    "    max_length = 0\n",
    "\n",
    "    for path in paths:\n",
    "        # Check if the path is the longest and prioritize straight-forward direction (upwards)\n",
    "        if len(path) > max_length or (len(path) == max_length and all(step[1] == start_col for step in path)):\n",
    "            straight_forward_path = path\n",
    "            max_length = len(path)\n",
    "\n",
    "    return straight_forward_path"
   ]
  },
  {
   "cell_type": "markdown",
   "metadata": {},
   "source": [
    "# **Function for Displaying Result Visually**"
   ]
  },
  {
   "cell_type": "code",
   "execution_count": null,
   "metadata": {
    "execution": {
     "iopub.execute_input": "2025-02-05T05:27:25.432666Z",
     "iopub.status.busy": "2025-02-05T05:27:25.432338Z",
     "iopub.status.idle": "2025-02-05T05:27:25.446022Z",
     "shell.execute_reply": "2025-02-05T05:27:25.445195Z",
     "shell.execute_reply.started": "2025-02-05T05:27:25.432635Z"
    },
    "trusted": true
   },
   "outputs": [],
   "source": [
    "def display_results_with_line(input_image_path, matrix, path):\n",
    "    matrix_np = np.array(matrix)\n",
    "    # input_image = cv2.imread(input_image_path, cv2.IMREAD_GRAYSCALE)\n",
    "    input_image = np.array(input_image_path)\n",
    "\n",
    "    if not path:\n",
    "        print(\"No valid path found.\")\n",
    "        return 3 # Exit or handle as needed\n",
    "\n",
    "    # Extract (row, col) points from the path\n",
    "    rows, cols = zip(*path)\n",
    "\n",
    "    # Fit a straight line (polynomial of degree 1)\n",
    "    fit = np.polyfit(cols, rows, 1)\n",
    "    fit_fn = np.poly1d(fit)\n",
    "    slope = fit[0]\n",
    "    angle = np.degrees(np.arctan(slope))\n",
    "\n",
    "    print(\"Path Direction according to the clock's hour-hand is to: \", angle_to_number(angle))\n",
    "\n",
    "    # Generate fitted points for plotting\n",
    "    fitted_cols = np.linspace(min(cols), max(cols), 100)\n",
    "    fitted_rows = fit_fn(fitted_cols)\n",
    "\n",
    "\n",
    "\n",
    "    return angle_to_number(angle)"
   ]
  },
  {
   "attachments": {
    "f6c01265-c6b1-4e5a-9a99-f1c01a557f71.png": {
     "image/png": "[encoded data removed]"
    }
   },
   "cell_type": "markdown",
   "metadata": {},
   "source": [
    "# **Function for Angle to Hour-hand Direction**\n",
    "![The-main-directions-and-intermediate-representation-to-the-cardinal-and-time-zone-of-the (1).png](attachment:f6c01265-c6b1-4e5a-9a99-f1c01a557f71.png)"
   ]
  },
  {
   "cell_type": "code",
   "execution_count": null,
   "metadata": {
    "execution": {
     "iopub.execute_input": "2025-02-05T05:27:25.447114Z",
     "iopub.status.busy": "2025-02-05T05:27:25.446853Z",
     "iopub.status.idle": "2025-02-05T05:27:25.458645Z",
     "shell.execute_reply": "2025-02-05T05:27:25.457837Z",
     "shell.execute_reply.started": "2025-02-05T05:27:25.447093Z"
    },
    "trusted": true
   },
   "outputs": [],
   "source": [
    "\n",
    "def angle_to_number(angle):\n",
    "    if 0 <= angle < 15:\n",
    "        return 9\n",
    "    elif 15 <= angle < 30:\n",
    "        return '9:30'\n",
    "    elif 30 <= angle < 45:\n",
    "        return 10\n",
    "    elif 45 <= angle < 60:\n",
    "        return '10:30'\n",
    "    elif 60 <= angle < 75:\n",
    "        return 11\n",
    "    elif 75 <= angle < 90:\n",
    "        return '11:30'\n",
    "    elif -90 <= angle < -75:\n",
    "        return 12\n",
    "    elif -75 <= angle < -60:\n",
    "        return '12:30'\n",
    "    elif -60 <= angle < -45:\n",
    "        return 1\n",
    "    elif -45 <= angle < -30:\n",
    "        return '1:30'\n",
    "    elif -30 <= angle < -15:\n",
    "        return 2\n",
    "    elif -15 <= angle < 0:\n",
    "        return '2:30'    \n",
    "    \n",
    "    else:\n",
    "        return 3  # Default case if angle is out of range"
   ]
  },
  {
   "cell_type": "markdown",
   "metadata": {},
   "source": [
    "# **Function for Calculating Adaptive Threshold value**"
   ]
  },
  {
   "cell_type": "code",
   "execution_count": 7,
   "metadata": {
    "execution": {
     "iopub.execute_input": "2025-02-05T05:27:25.459904Z",
     "iopub.status.busy": "2025-02-05T05:27:25.459585Z",
     "iopub.status.idle": "2025-02-05T05:27:25.472415Z",
     "shell.execute_reply": "2025-02-05T05:27:25.471570Z",
     "shell.execute_reply.started": "2025-02-05T05:27:25.459874Z"
    },
    "trusted": true
   },
   "outputs": [],
   "source": [
    "def find_lowest_six_avg(matrix):\n",
    "    matrix = np.array(matrix)\n",
    "    flat_values = np.sort(matrix.flatten())\n",
    "    lowest_six = flat_values[:6]\n",
    "    # print(lowest_six)\n",
    "    avg_lowest_six = np.mean(lowest_six)   \n",
    "    return avg_lowest_six"
   ]
  },
  {
   "cell_type": "markdown",
   "metadata": {},
   "source": [
    "# **Result**"
   ]
  },
  {
   "cell_type": "code",
   "execution_count": null,
   "metadata": {
    "execution": {
     "iopub.execute_input": "2025-02-05T05:27:25.475606Z",
     "iopub.status.busy": "2025-02-05T05:27:25.475345Z",
     "iopub.status.idle": "2025-02-05T05:33:15.933272Z",
     "shell.execute_reply": "2025-02-05T05:33:15.932312Z",
     "shell.execute_reply.started": "2025-02-05T05:27:25.475560Z"
    },
    "trusted": true
   },
   "outputs": [],
   "source": [
    "import os\n",
    "import numpy as np\n",
    "from PIL import Image, ImageOps\n",
    "import io\n",
    "import tensorflow as tf\n",
    "import time\n",
    "import matplotlib.pyplot as plt\n",
    "from tabulate import tabulate  # Import tabulate for timing output\n",
    "\n",
    "MODEL_PATH = '/kaggle/input/midasv2/keras/default/1/Midas-V2.tflite'\n",
    "try:\n",
    "    interpreter = tf.lite.Interpreter(model_path=MODEL_PATH)\n",
    "    interpreter.allocate_tensors()\n",
    "    print(\"Model Loaded\")\n",
    "\n",
    "    # Check model details\n",
    "    input_details = interpreter.get_input_details()\n",
    "    output_details = interpreter.get_output_details()\n",
    "\n",
    "    print(\"Input Details:\", input_details)\n",
    "    print(\"Output Details:\", output_details)\n",
    "\n",
    "except ValueError as e:\n",
    "    print(\"Error loading the model:\", e)\n",
    "\n",
    "\n",
    "INPUT_HEIGHT = 256\n",
    "INPUT_WIDTH = 256\n",
    "\n",
    "INPUT_MEAN = 127.5\n",
    "INPUT_STD = 127.5\n",
    "\n",
    "MAX_IMAGE_SIZE = 65535  # Maximum allowed size for the image in bytes\n",
    "\n",
    "# Preprocess image to match model input size and normalize\n",
    "def preprocess_image(image: Image.Image) -> np.ndarray:\n",
    "    original_size = image.size  # Store the original image size\n",
    "\n",
    "    # Compress the image if its size is greater than 1 MB\n",
    "    img_byte_arr = io.BytesIO()\n",
    "    image.save(img_byte_arr, format='JPEG')\n",
    "    size_in_mb = len(img_byte_arr.getvalue()) / (1024 * 1024)\n",
    "\n",
    "    # If the image size exceeds 1 MB, we compress it\n",
    "    if size_in_mb > 1.0:\n",
    "        quality = int(min(85, 85 * (2.0 / size_in_mb)))  # Adjust quality based on size\n",
    "        compressed_io = io.BytesIO()\n",
    "        image.save(compressed_io, format='JPEG', quality=quality, optimize=True)\n",
    "        image = Image.open(compressed_io)\n",
    "\n",
    "    # Convert the image to RGB and resize to the input size\n",
    "    image = image.convert('RGB')\n",
    "    image = image.resize((INPUT_WIDTH, INPUT_HEIGHT))\n",
    "\n",
    "    # Convert the image to a NumPy array and normalize\n",
    "    image_np = np.array(image).astype(np.float32)\n",
    "    image_np = (image_np - INPUT_MEAN) / INPUT_STD  # Normalize\n",
    "    image_np = np.expand_dims(image_np, axis=0)  # Add batch dimension\n",
    "\n",
    "    return image_np, original_size\n",
    "\n",
    "# Postprocess depth map to match original size\n",
    "def postprocess_depth(depth: np.ndarray, original_size: tuple) -> Image.Image:\n",
    "    depth = np.squeeze(depth)\n",
    "\n",
    "    # Normalize the depth values to the range [0, 1]\n",
    "    depth_min = depth.min()\n",
    "    depth_max = depth.max()\n",
    "    depth_normalized = (depth - depth_min) / (depth_max - depth_min)\n",
    "\n",
    "    # Convert to a 0-255 range for visualization\n",
    "    depth_image = (depth_normalized * 255).astype(np.uint8)\n",
    "\n",
    "    depth_pil = Image.fromarray(depth_image)\n",
    "    depth_pil = depth_pil.resize(original_size, Image.Resampling.LANCZOS)\n",
    "\n",
    "    return depth_pil\n",
    "\n",
    "# Calculate patch values for a 5x5 grid\n",
    "def calculate_patch_values(depth_image: Image.Image) -> dict:\n",
    "    depth_array = np.array(depth_image)\n",
    "    h, w = depth_array.shape\n",
    "    patch_values = {}\n",
    "    patch_size_h = h // 5\n",
    "    patch_size_w = w // 5\n",
    "\n",
    "    for i in range(5):\n",
    "        for j in range(5):\n",
    "            patch = depth_array[i * patch_size_h:(i + 1) * patch_size_h,\n",
    "                                j * patch_size_w:(j + 1) * patch_size_w]\n",
    "            patch_values[5 * i + j + 1] = int(np.mean(patch))\n",
    "\n",
    "    return patch_values\n",
    "\n",
    "# Generate depth map from image\n",
    "def generate_depth_from_image(image_filename):\n",
    "    overall_start = time.time()\n",
    "\n",
    "    try:\n",
    "        timings = []\n",
    "\n",
    "        step_start = time.time()\n",
    "        image = Image.open(image_filename)\n",
    "        image = ImageOps.exif_transpose(image)\n",
    "        timings.append([\"Image Loading\", time.time() - step_start])\n",
    "\n",
    "        step_start = time.time()\n",
    "        input_data, original_size = preprocess_image(image)\n",
    "        timings.append([\"Preprocessing\", time.time() - step_start])\n",
    "\n",
    "        step_start = time.time()\n",
    "        interpreter.set_tensor(input_details[0]['index'], input_data)\n",
    "        interpreter.invoke()\n",
    "        timings.append([\"Model Inference\", time.time() - step_start])\n",
    "\n",
    "        step_start = time.time()\n",
    "        output_data = interpreter.get_tensor(output_details[0]['index'])\n",
    "        depth = output_data[0]\n",
    "        timings.append([\"Depth Map Extraction\", time.time() - step_start])\n",
    "\n",
    "        step_start = time.time()\n",
    "        depth_image = postprocess_depth(depth, original_size)\n",
    "        timings.append([\"Postprocessing\", time.time() - step_start])\n",
    "\n",
    "        return {\n",
    "            'depth_map': depth_image\n",
    "        }\n",
    "\n",
    "    except Exception as e:\n",
    "        print(f\"Error processing {image_filename}: {e}\")\n",
    "        return {'error': str(e)}\n",
    "\n",
    "import os\n",
    "from PIL import Image\n",
    "import pandas as pd\n",
    "\n",
    "# Define paths\n",
    "dataset_path = \"\"\n",
    "csv_path = '/kaggle/input/path-for-outdoor-final/outdoor_gt_path.csv'\n",
    "\n",
    "# Load the CSV file and get the first column (image filenames)\n",
    "image_files = pd.read_csv(csv_path, header = None)  # Read CSV file\n",
    "gt_value = image_files.iloc[:, 1]\n",
    "image_files2 = image_files.iloc[:, 0]  # Select the first column (image filenames)\n",
    "\n",
    "# Create a list to store full image paths\n",
    "full_paths = []\n",
    "out_pred = []\n",
    "# Iterate through the first 10 filenames and construct the full path\n",
    "for filename in image_files2:\n",
    "    image_path = os.path.join(dataset_path, filename)  # Construct full path\n",
    "    full_paths.append(image_path)  # Store the full path in the list\n",
    "    # print(f\"Full path: {image_path}\")\n",
    "\n",
    "total_time = 0\n",
    "total_images = len(full_paths)\n",
    "overall_times = []\n",
    "tot_times = []\n",
    "\n",
    "for image_filename in full_paths:\n",
    "\n",
    "    start_time = time.time()\n",
    "    result = generate_depth_from_image(image_filename)\n",
    "    image_path = result['depth_map']  # Replace with your image path\n",
    "\n",
    "    # print(image_path)\n",
    "    # image = Image.open(image_path)  # Load the image\n",
    "    image_array = np.array(image_path) \n",
    "    # Convert image to patches and calculate average intensities\n",
    "    # print(image_array)\n",
    "    patch_matrix = image_to_patches(image_array, resize_to=(225, 225), patch_size=(15, 15))\n",
    "    \n",
    "    # print(patch_matrix)\n",
    "    th = find_lowest_six_avg(patch_matrix)\n",
    "    print(\"Threshold Value: \",th)\n",
    "    # Starting point (row, col) for path visualization\n",
    "    start_row, start_col = 14, 7\n",
    "    \n",
    "    # Perform the depth map search\n",
    "    longest_straight_forward_path = depth_map_search(patch_matrix, start_row, start_col, th)\n",
    "    \n",
    "    # Display the results with the fitted line and slope\n",
    "    result = display_results_with_line(image_array, patch_matrix, longest_straight_forward_path)\n",
    "\n",
    "    end_time = time.time()\n",
    "    tot_times.append(end_time-start_time)\n",
    "    out_pred.append(result)\n",
    "    \n",
    "    \n",
    "print(len(out_pred))\n",
    "print(tot_times)\n",
    "average_time = sum(tot_times) / len(tot_times)\n",
    "print(f\"Average response time: {average_time:.4f} seconds\")"
   ]
  },
  {
   "cell_type": "code",
   "execution_count": 10,
   "metadata": {
    "execution": {
     "iopub.execute_input": "2025-02-05T05:33:15.939043Z",
     "iopub.status.busy": "2025-02-05T05:33:15.938799Z",
     "iopub.status.idle": "2025-02-05T05:33:15.953727Z",
     "shell.execute_reply": "2025-02-05T05:33:15.953048Z",
     "shell.execute_reply.started": "2025-02-05T05:33:15.939021Z"
    },
    "trusted": true
   },
   "outputs": [
    {
     "name": "stdout",
     "output_type": "stream",
     "text": [
      "[10, '12:30', 10, 11, 11, 11, '12:30', '10:30', '1:30', 1, 10, 1, '9:30', '12:30', 1, 11, '9:30', '9:30', 11, 1, 3, '10:30', '9:30', '10:30', '12:30', '11:30', 11, '12:30', '11:30', '12:30', 10, 1, 10, '12:30', 11, 12, 11, 1, 3, '12:30', '10:30', 12, 1, 11, '11:30', 3, '9:30', 11, 11, 10, 1, 12, '10:30', 10, 1, '12:30', 1, 1, '12:30', 1, 12, '9:30', 11, 10, 11, 12, '12:30', '11:30', '11:30', '11:30', 12, '10:30', '10:30', '10:30', 10, '12:30', '2:30', 10, 3, 10, 1, '12:30', 10, 10, 11, 10, 12, 1, 12, '12:30', 10, 12, '11:30', '11:30', 1, '11:30', 1, '10:30', 11, 10, 11, 12, 11, '10:30', 12, 12, 11, 10, '10:30', 11, 10, 12, 12, 11, 1, '9:30', 10, 3, 11, '11:30', 12, 1, '10:30', '9:30', 12, 1, 10, 1, 11, '9:30', 3, 3, '11:30', '10:30', 10, 1, '12:30', 11, 12, 1, '10:30', '12:30', '12:30', 11, 11, 11, 10, 1, 12, 10, '10:30', 10, 11, 10, 1, '9:30', '12:30', '12:30', '12:30', '11:30', '12:30', 11, 11, '12:30', 11, '11:30', '12:30', '9:30', 12, '9:30', 11, 12, '12:30', '12:30', 11, '10:30', '12:30', '12:30', 10, '10:30', '12:30', 3, '9:30', '12:30', '11:30', 11, '10:30', '9:30', '12:30', 10, 12, 10, 1, 1, '10:30', '11:30', '12:30', '10:30', '12:30', '11:30', '12:30', 3, 11, 11, 3, 3, 12, 12, '9:30', 11, 12, '11:30', 10, '12:30', '12:30', 12, '10:30', '11:30', '12:30', 11, '11:30', 12, 10, '9:30', '9:30', '9:30', 3, '9:30', 11, 10, 11, '12:30', 10, '10:30', '11:30', '11:30', 11, 11, 10, '9:30', '12:30', '11:30', '12:30', 10, 10, '10:30', '1:30', 12, 10, '10:30', 10, 10, '9:30', '12:30', 3, '9:30', '10:30', 10, '9:30', 11, 10, '9:30', '10:30', 10, 10, 11, 1, 1, 12, '2:30', 12, '11:30', '11:30', 1, '12:30', 12, 11, 10, '11:30', '12:30', 12, 11, '11:30', 10, 11, 3, '12:30', 11, 12, '12:30', '10:30', 11, 10, 10, 1, 10, 10, '11:30', 1, '12:30']\n"
     ]
    }
   ],
   "source": [
    "print((out_pred))"
   ]
  },
  {
   "cell_type": "code",
   "execution_count": null,
   "metadata": {
    "execution": {
     "iopub.execute_input": "2025-02-05T05:33:15.954689Z",
     "iopub.status.busy": "2025-02-05T05:33:15.954426Z",
     "iopub.status.idle": "2025-02-05T05:33:15.972557Z",
     "shell.execute_reply": "2025-02-05T05:33:15.971761Z",
     "shell.execute_reply.started": "2025-02-05T05:33:15.954667Z"
    },
    "trusted": true
   },
   "outputs": [
    {
     "name": "stdout",
     "output_type": "stream",
     "text": [
      "MAE: 34.45 degree\n",
      "Accuracy: 34.66666666666667 %\n"
     ]
    }
   ],
   "source": [
    "def time_to_minutes(time_str):\n",
    "    # Handle times like 12, 11:30, 10:30, etc.\n",
    "    if \":\" in time_str:  # For times like 12:30, 10:30, etc.\n",
    "        hour, minute = map(int, time_str.split(\":\"))\n",
    "    else:  # For times like 12, 11, 10, etc.\n",
    "        hour, minute = int(time_str), 0\n",
    "    \n",
    "    # If hour is greater than or equal to 1, add 12 hours\n",
    "    if hour == 1 or hour == 2 or hour == 3:\n",
    "        hour += 12\n",
    "    \n",
    "    return hour * 60 + minute\n",
    "\n",
    "def calculate_time_difference(gt_val, out_val):\n",
    "    # Convert both gt_val and out_val to minutes\n",
    "    gt_time_in_minutes = time_to_minutes(gt_val)\n",
    "    out_time_in_minutes = time_to_minutes(out_val)\n",
    "\n",
    "    # print(gt_time_in_minutes, out_time_in_minutes, similar_cnt)\n",
    "    # Calculate the absolute difference\n",
    "    return abs(gt_time_in_minutes - out_time_in_minutes)\n",
    "\n",
    "# print(len(gt_value), len(out_pred))\n",
    "out_pred = ['3' if val is None else val for val in out_pred]\n",
    "# print(out_pred)\n",
    "# Example for the 5 iterations\n",
    "size = 300\n",
    "tot_dig = 0\n",
    "similar_cnt = 0\n",
    "for i in range(size):\n",
    "    gt_val = str(gt_value[i]).replace(\" \", \"\")\n",
    "    out_val = str(out_pred[i]).replace(\" \", \"\")\n",
    "    time_diff = calculate_time_difference(gt_val, out_val)\n",
    "    # if time_diff <= 30:\n",
    "    #     time_diff = 0\n",
    "    if time_diff == 0:\n",
    "        similar_cnt += 1\n",
    "    tot_dig += time_diff * 0.5\n",
    "\n",
    "print(\"MAE:\", tot_dig / size, \"degree\")\n",
    "print(\"Accuracy:\", (similar_cnt / size) * 100, \"%\")"
   ]
  },
  {
   "cell_type": "code",
   "execution_count": null,
   "metadata": {
    "trusted": true
   },
   "outputs": [],
   "source": []
  }
 ],
 "metadata": {
  "kaggle": {
   "accelerator": "none",
   "dataSources": [
    {
     "datasetId": 1198025,
     "sourceId": 2002504,
     "sourceType": "datasetVersion"
    },
    {
     "datasetId": 1886240,
     "sourceId": 3085320,
     "sourceType": "datasetVersion"
    },
    {
     "datasetId": 6435105,
     "sourceId": 10387292,
     "sourceType": "datasetVersion"
    },
    {
     "datasetId": 6590365,
     "sourceId": 10643693,
     "sourceType": "datasetVersion"
    },
    {
     "datasetId": 6590668,
     "sourceId": 10644127,
     "sourceType": "datasetVersion"
    },
    {
     "modelId": 229682,
     "modelInstanceId": 207980,
     "sourceId": 243472,
     "sourceType": "modelInstanceVersion"
    }
   ],
   "dockerImageVersionId": 30822,
   "isGpuEnabled": false,
   "isInternetEnabled": true,
   "language": "python",
   "sourceType": "notebook"
  },
  "kernelspec": {
   "display_name": "Python 3",
   "language": "python",
   "name": "python3"
  },
  "language_info": {
   "codemirror_mode": {
    "name": "ipython",
    "version": 3
   },
   "file_extension": ".py",
   "mimetype": "text/x-python",
   "name": "python",
   "nbconvert_exporter": "python",
   "pygments_lexer": "ipython3",
   "version": "3.10.12"
  }
 },
 "nbformat": 4,
 "nbformat_minor": 4
}
